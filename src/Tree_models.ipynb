{
 "cells": [
  {
   "cell_type": "code",
   "execution_count": null,
   "metadata": {},
   "outputs": [],
   "source": [
    "import pandas as pd\n",
    "import numpy as np\n",
    "from sklearn.model_selection import train_test_split\n",
    "import random\n",
    "\n",
    "# Set seeds for reproducibility\n",
    "random_seed = 4101  \n",
    "random.seed(random_seed)\n",
    "np.random.seed(random_seed)\n",
    "\n",
    "final_merged_df = pd.read_csv(\"../data/final_merged_df.csv\")\n",
    "# Convert Date column to datetime\n",
    "final_merged_df['Date'] = pd.to_datetime(final_merged_df['Date'])\n",
    "\n",
    "# Split the data into train and test sets\n",
    "train_df = final_merged_df[final_merged_df['Date'] <= '2015-12-31']\n",
    "test_df = final_merged_df[final_merged_df['Date'] > '2015-12-31']"
   ]
  },
  {
   "cell_type": "code",
   "execution_count": null,
   "metadata": {},
   "outputs": [],
   "source": []
  }
 ],
 "metadata": {
  "kernelspec": {
   "display_name": ".venv",
   "language": "python",
   "name": "python3"
  },
  "language_info": {
   "name": "python",
   "version": "3.12.1"
  }
 },
 "nbformat": 4,
 "nbformat_minor": 2
}
